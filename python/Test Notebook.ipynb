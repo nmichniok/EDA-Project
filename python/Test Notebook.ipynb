{
 "cells": [
  {
   "cell_type": "code",
   "execution_count": 1,
   "metadata": {
    "collapsed": true
   },
   "outputs": [],
   "source": [
    "from mpl_toolkits.basemap import Basemap, cm\n",
    "from matplotlib.patches import Polygon\n",
    "from matplotlib.collections import PatchCollection\n",
    "from matplotlib.colors import Normalize "
   ]
  },
  {
   "cell_type": "code",
   "execution_count": null,
   "metadata": {
    "collapsed": true
   },
   "outputs": [],
   "source": [
    "fig, ax = plt.subplots(figsize=(10,20))\n",
    "\n",
    "west, south, east, north = -74.26, 40.50, -73.70, 40.92\n",
    "m = Basemap(resolution='h', # 'c'rude, 'l'ow, 'i'ntermediate, 'h'igh, 'f'ull or None\n",
    "            projection='merc',lat_ts=south,\n",
    "            llcrnrlon=west, llcrnrlat=south, urcrnrlon=east, urcrnrlat=north)\n",
    "\n",
    "#download open streetmap data from download.geofabrik.de\n",
    "m.drawmapboundary(fill_color='lightblue')  #color of seas/oceans\n",
    "m.fillcontinents(color='#f2f2f2')  #color of landmasses and lakes, lake_color=\n",
    "#m.drawrivers(color='red')\n",
    "m.drawcoastlines()\n",
    "m.drawcountries()\n",
    "    \n",
    "colors = {'high':'red', 'medium':'green', 'low':'blue'}\n",
    "\n",
    "x,y = m(train.longitude[train['interest_level'] == 'high'].values, train.latitude[train['interest_level'] == 'high'].values)\n",
    "a,b = m(train.longitude[train['interest_level'] == 'medium'].values, train.latitude[train['interest_level'] == 'medium'].values)\n",
    "c,d = m(train.longitude[train['interest_level'] == 'low'].values, train.latitude[train['interest_level'] == 'low'].values)\n",
    "\n",
    "#m.plot(c, d, 'go', markersize=4, alpha=0.65)  #LOW interest level\n",
    "m.plot(x, y, 'bo', markersize=4, alpha=0.5)  #HIGH interest level\n",
    "#m.plot(a, b, 'ro', markersize=4, alpha=0.6)  #MED interest level\n",
    "\n",
    "#plot.show()"
   ]
  },
  {
   "cell_type": "code",
   "execution_count": null,
   "metadata": {
    "collapsed": true
   },
   "outputs": [],
   "source": [
    "# Create a Pandas dataframe from some data.\n",
    "#df = pd.DataFrame({'Data': [10, 20, 30, 20, 15, 30, 45]})\n",
    "\n",
    "# Create a Pandas Excel writer using XlsxWriter as the engine.\n",
    "#writer = pd.ExcelWriter('pandas_simple.xlsx', engine='xlsxwriter')\n",
    "\n",
    "# Convert the dataframe to an XlsxWriter Excel object.\n",
    "#train.to_excel(writer, sheet_name='Sheet1')\n",
    "\n",
    "# Close the Pandas Excel writer and output the Excel file.\n",
    "#writer.save()"
   ]
  },
  {
   "cell_type": "code",
   "execution_count": null,
   "metadata": {
    "collapsed": true
   },
   "outputs": [],
   "source": []
  },
  {
   "cell_type": "code",
   "execution_count": null,
   "metadata": {
    "collapsed": true
   },
   "outputs": [],
   "source": []
  },
  {
   "cell_type": "code",
   "execution_count": null,
   "metadata": {
    "collapsed": true
   },
   "outputs": [],
   "source": []
  }
 ],
 "metadata": {
  "kernelspec": {
   "display_name": "Python 3",
   "language": "python",
   "name": "python3"
  },
  "language_info": {
   "codemirror_mode": {
    "name": "ipython",
    "version": 3
   },
   "file_extension": ".py",
   "mimetype": "text/x-python",
   "name": "python",
   "nbconvert_exporter": "python",
   "pygments_lexer": "ipython3",
   "version": "3.6.1"
  }
 },
 "nbformat": 4,
 "nbformat_minor": 2
}
